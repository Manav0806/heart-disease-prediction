{
 "cells": [
  {
   "cell_type": "markdown",
   "id": "e6f26a2b",
   "metadata": {},
   "source": [
    "# 1. Importing Required Libraries"
   ]
  },
  {
   "cell_type": "code",
   "execution_count": null,
   "id": "63727734",
   "metadata": {},
   "outputs": [],
   "source": [
    "import pandas as pd\n",
    "import matplotlib.pyplot as plt\n",
    "import seaborn as sns"
   ]
  },
  {
   "cell_type": "markdown",
   "id": "eacabded",
   "metadata": {},
   "source": [
    "# 2. Loading the Dataset\n",
    "The dataset is loaded from the processed Cleveland data file."
   ]
  },
  {
   "cell_type": "code",
   "execution_count": null,
   "id": "d4e12ce7",
   "metadata": {},
   "outputs": [],
   "source": [
    "df = pd.read_csv('Dataset/processed.cleveland.data')\n",
    "df.head()"
   ]
  },
  {
   "cell_type": "markdown",
   "id": "fd323110",
   "metadata": {},
   "source": [
    "# 3. Assigning Column Names\n",
    "As the dataset does not include header names, we refer to `cleve.mod` for assigning the correct column names."
   ]
  },
  {
   "cell_type": "code",
   "execution_count": null,
   "id": "9e14b454",
   "metadata": {},
   "outputs": [],
   "source": [
    "attributes = ['age','gender','cp','trestbps','chol','fbs','restecg','thalach','exang','oldpeak','slope','ca','thal','result']\n",
    "df.columns = attributes"
   ]
  },
  {
   "cell_type": "markdown",
   "id": "0a00063a",
   "metadata": {},
   "source": [
    "# 4. Data Type Conversion\n",
    "Converting all columns to appropriate numeric data types."
   ]
  },
  {
   "cell_type": "code",
   "execution_count": null,
   "id": "3945f669",
   "metadata": {},
   "outputs": [],
   "source": [
    "df = df.apply(pd.to_numeric, errors='coerce')\n",
    "df.dtypes"
   ]
  },
  {
   "cell_type": "markdown",
   "id": "556f3c5b",
   "metadata": {},
   "source": [
    "# 5. Handling Missing Values\n",
    "The dataset contains '?' as missing values, especially in the `ca` and `thal` columns. We impute them with the most frequent values."
   ]
  },
  {
   "cell_type": "code",
   "execution_count": null,
   "id": "468fed0b",
   "metadata": {},
   "outputs": [],
   "source": [
    "df['ca'].fillna(0, inplace=True)\n",
    "df['thal'].fillna(3, inplace=True)"
   ]
  },
  {
   "cell_type": "markdown",
   "id": "f462b8fc",
   "metadata": {},
   "source": [
    "# 6. Target Variable Binarization\n",
    "Converting `result` into a binary format: 0 = No Heart Disease, 1 = Presence of Heart Disease."
   ]
  },
  {
   "cell_type": "code",
   "execution_count": null,
   "id": "b77fbaa0",
   "metadata": {},
   "outputs": [],
   "source": [
    "df['result'] = df['result'].apply(lambda x: 1 if x > 0 else 0)"
   ]
  },
  {
   "cell_type": "markdown",
   "id": "3ee2d604",
   "metadata": {},
   "source": [
    "# 7. Exploratory Data Analysis (EDA)\n",
    "Understanding feature distributions and relationships."
   ]
  },
  {
   "cell_type": "code",
   "execution_count": null,
   "id": "a80744a3",
   "metadata": {},
   "outputs": [],
   "source": [
    "# Count plot of target\n",
    "sns.countplot(x='result', data=df, palette='Set2')"
   ]
  },
  {
   "cell_type": "code",
   "execution_count": null,
   "id": "ff0cdf73",
   "metadata": {},
   "outputs": [],
   "source": [
    "# Categorical features vs target\n",
    "for col in ['gender', 'cp', 'exang', 'thal']:\n",
    "    sns.countplot(x=col, hue='result', data=df)\n",
    "    plt.title(f'{col} vs Heart Disease')\n",
    "    plt.show()"
   ]
  },
  {
   "cell_type": "code",
   "execution_count": null,
   "id": "d1e34521",
   "metadata": {},
   "outputs": [],
   "source": [
    "# Numerical features vs target\n",
    "for col in ['age', 'chol', 'thalach']:\n",
    "    sns.boxplot(x='result', y=col, data=df)\n",
    "    plt.title(f'{col} by Heart Disease')\n",
    "    plt.show()"
   ]
  },
  {
   "cell_type": "code",
   "execution_count": null,
   "id": "8735ed15",
   "metadata": {},
   "outputs": [],
   "source": [
    "# Correlation heatmap\n",
    "plt.figure(figsize=(10,6))\n",
    "sns.heatmap(df.corr(), annot=True, cmap='coolwarm')\n",
    "plt.title('Feature Correlation Matrix')"
   ]
  }
 ],
 "metadata": {},
 "nbformat": 4,
 "nbformat_minor": 5
}
